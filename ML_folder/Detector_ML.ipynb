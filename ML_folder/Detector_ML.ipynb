{
 "cells": [
  {
   "cell_type": "code",
   "execution_count": 1,
   "id": "48bc480c",
   "metadata": {
    "scrolled": true
   },
   "outputs": [
    {
     "ename": "ImportError",
     "evalue": "cannot import name 'joblib' from 'sklearn.externals' (/home/heavyfeather/.local/lib/python3.10/site-packages/sklearn/externals/__init__.py)",
     "output_type": "error",
     "traceback": [
      "\u001b[0;31m---------------------------------------------------------------------------\u001b[0m",
      "\u001b[0;31mImportError\u001b[0m                               Traceback (most recent call last)",
      "Cell \u001b[0;32mIn[1], line 3\u001b[0m\n\u001b[1;32m      1\u001b[0m \u001b[38;5;28;01mimport\u001b[39;00m \u001b[38;5;21;01mnumpy\u001b[39;00m \u001b[38;5;28;01mas\u001b[39;00m \u001b[38;5;21;01mnp\u001b[39;00m\n\u001b[1;32m      2\u001b[0m \u001b[38;5;28;01mimport\u001b[39;00m \u001b[38;5;21;01mpandas\u001b[39;00m \u001b[38;5;28;01mas\u001b[39;00m \u001b[38;5;21;01mpd\u001b[39;00m\n\u001b[0;32m----> 3\u001b[0m \u001b[38;5;28;01mfrom\u001b[39;00m \u001b[38;5;21;01msklearn\u001b[39;00m\u001b[38;5;21;01m.\u001b[39;00m\u001b[38;5;21;01mexternals\u001b[39;00m \u001b[38;5;28;01mimport\u001b[39;00m joblib\n\u001b[1;32m      4\u001b[0m \u001b[38;5;28;01mimport\u001b[39;00m \u001b[38;5;21;01mpickle\u001b[39;00m\n\u001b[1;32m      5\u001b[0m \u001b[38;5;28;01mimport\u001b[39;00m \u001b[38;5;21;01mmatplotlib\u001b[39;00m\u001b[38;5;21;01m.\u001b[39;00m\u001b[38;5;21;01mpyplot\u001b[39;00m \u001b[38;5;28;01mas\u001b[39;00m \u001b[38;5;21;01mplt\u001b[39;00m\n",
      "\u001b[0;31mImportError\u001b[0m: cannot import name 'joblib' from 'sklearn.externals' (/home/heavyfeather/.local/lib/python3.10/site-packages/sklearn/externals/__init__.py)"
     ]
    }
   ],
   "source": [
    "import numpy as np\n",
    "import pandas as pd\n",
    "import pickle\n",
    "import matplotlib.pyplot as plt\n",
    "from sklearn.preprocessing import LabelEncoder,OneHotEncoder\n",
    "from sklearn import preprocessing\n",
    "from sklearn.metrics import accuracy_score\n",
    "from sklearn.ensemble import RandomForestClassifier\n",
    "from sklearn.model_selection import train_test_split # Import train_test_split function\n",
    "import warnings\n",
    "warnings.filterwarnings(\"ignore\")"
   ]
  },
  {
   "cell_type": "code",
   "execution_count": null,
   "id": "bfcc5c3c",
   "metadata": {},
   "outputs": [],
   "source": [
    "dataset_train = pd.read_csv(\"auth.log.mlTrain.csv\", encoding = 'utf-8')\n",
    "dataset_train"
   ]
  },
  {
   "cell_type": "code",
   "execution_count": null,
   "id": "4352995c",
   "metadata": {},
   "outputs": [],
   "source": [
    "dataset_test = pd.read_csv(\"auth.log.test.csv\", encoding = 'utf-8')\n",
    "dataset_test"
   ]
  },
  {
   "cell_type": "code",
   "execution_count": null,
   "id": "b8b92a58",
   "metadata": {},
   "outputs": [],
   "source": [
    "dataset_real = pd.read_csv(\"auth.log.csv\", encoding = 'utf-8')\n",
    "dataset_real"
   ]
  },
  {
   "cell_type": "code",
   "execution_count": null,
   "id": "293dee65",
   "metadata": {},
   "outputs": [],
   "source": [
    "dataset_train['class'].describe()"
   ]
  },
  {
   "cell_type": "code",
   "execution_count": null,
   "id": "daaa7a06",
   "metadata": {},
   "outputs": [],
   "source": [
    "print(dataset_train.duplicated().sum())\n",
    "print(dataset_test.duplicated().sum())"
   ]
  },
  {
   "cell_type": "code",
   "execution_count": null,
   "id": "9e0d3d62",
   "metadata": {},
   "outputs": [],
   "source": [
    "dataset_train['class'].value_counts()"
   ]
  },
  {
   "cell_type": "code",
   "execution_count": null,
   "id": "9d6bec7a",
   "metadata": {},
   "outputs": [],
   "source": [
    "dataset_train.select_dtypes(['int']).columns"
   ]
  },
  {
   "cell_type": "code",
   "execution_count": null,
   "id": "7c09e320",
   "metadata": {},
   "outputs": [],
   "source": [
    "dataset_train.drop('month',axis = 1,inplace = True)\n",
    "dataset_train.drop('date',axis = 1,inplace = True)\n",
    "dataset_train.drop('time',axis = 1,inplace = True)\n",
    "dataset_train.drop('user',axis = 1,inplace = True)\n",
    "dataset_train.drop('command',axis = 1,inplace = True)\n",
    "\n",
    "dataset_test.drop('month',axis = 1,inplace = True)\n",
    "dataset_test.drop('date',axis = 1,inplace = True)\n",
    "dataset_test.drop('time',axis = 1,inplace = True)\n",
    "dataset_test.drop('user',axis = 1,inplace = True)\n",
    "dataset_test.drop('command',axis = 1,inplace = True)"
   ]
  },
  {
   "cell_type": "code",
   "execution_count": null,
   "id": "fb343b82",
   "metadata": {},
   "outputs": [],
   "source": [
    "x_test=dataset_test.drop(columns = [\"class\"], axis = 1)\n",
    "y_test=dataset_test[\"class\"]\n",
    "x_train=dataset_train.drop(columns = [\"class\"], axis = 1)\n",
    "y_train=dataset_train[\"class\"]"
   ]
  },
  {
   "cell_type": "code",
   "execution_count": null,
   "id": "633c9cbf",
   "metadata": {},
   "outputs": [],
   "source": [
    "binary_model = RandomForestClassifier()\n",
    "binary_model.fit(x_train, y_train)\n",
    "binary_predictions = binary_model.predict(x_test)\n",
    "\n",
    "base_rf_score = accuracy_score(binary_predictions,y_test)\n",
    "#base_rf_score\n",
    "binary_predictions"
   ]
  },
  {
   "cell_type": "code",
   "execution_count": null,
   "id": "29185f79",
   "metadata": {},
   "outputs": [],
   "source": [
    "filename = \"Detector.joblib\"\n",
    "joblib.dump(binary_model, filename)"
   ]
  }
 ],
 "metadata": {
  "kernelspec": {
   "display_name": "Python 3 (ipykernel)",
   "language": "python",
   "name": "python3"
  },
  "language_info": {
   "codemirror_mode": {
    "name": "ipython",
    "version": 3
   },
   "file_extension": ".py",
   "mimetype": "text/x-python",
   "name": "python",
   "nbconvert_exporter": "python",
   "pygments_lexer": "ipython3",
   "version": "3.10.6"
  }
 },
 "nbformat": 4,
 "nbformat_minor": 5
}
